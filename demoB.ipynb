{
 "cells": [
  {
   "cell_type": "markdown",
   "id": "5f577597-f5b2-475e-8430-8559d7cd02d0",
   "metadata": {},
   "source": [
    "# Motivating Data Structures"
   ]
  },
  {
   "cell_type": "markdown",
   "id": "97581e12-06e1-4fc2-8b3f-f44324d29e6a",
   "metadata": {},
   "source": [
    "## Queues\n",
    "\n",
    "Notes: \n",
    "\n"
   ]
  },
  {
   "cell_type": "code",
   "execution_count": 1,
   "id": "2fd7d7a2",
   "metadata": {},
   "outputs": [],
   "source": [
    "from collections import deque\n",
    "\n",
    "nums = 100000\n",
    "num_list = []"
   ]
  },
  {
   "cell_type": "code",
   "execution_count": 3,
   "id": "189d021f",
   "metadata": {},
   "outputs": [
    {
     "name": "stdout",
     "output_type": "stream",
     "text": [
      "8.29 ms ± 752 μs per loop (mean ± std. dev. of 7 runs, 100 loops each)\n"
     ]
    }
   ],
   "source": [
    "%%timeit \n",
    "\n",
    "num_list = deque(range(nums))\n",
    "while(num_list):\n",
    "    num_list.pop()"
   ]
  },
  {
   "cell_type": "code",
   "execution_count": 6,
   "id": "90386d42",
   "metadata": {},
   "outputs": [
    {
     "name": "stdout",
     "output_type": "stream",
     "text": [
      "6.84 ms ± 482 μs per loop (mean ± std. dev. of 7 runs, 100 loops each)\n"
     ]
    }
   ],
   "source": [
    "%%timeit\n",
    "num_list = deque(range(nums))\n",
    "while(num_list):\n",
    "    num_list.popleft()"
   ]
  },
  {
   "cell_type": "code",
   "execution_count": null,
   "id": "e79c6174",
   "metadata": {},
   "outputs": [],
   "source": []
  }
 ],
 "metadata": {
  "kernelspec": {
   "display_name": "base",
   "language": "python",
   "name": "python3"
  },
  "language_info": {
   "codemirror_mode": {
    "name": "ipython",
    "version": 3
   },
   "file_extension": ".py",
   "mimetype": "text/x-python",
   "name": "python",
   "nbconvert_exporter": "python",
   "pygments_lexer": "ipython3",
   "version": "3.12.7"
  }
 },
 "nbformat": 4,
 "nbformat_minor": 5
}
